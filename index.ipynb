{
 "cells": [
  {
   "cell_type": "markdown",
   "metadata": {},
   "source": [
    "# Inheritance - Lab\n",
    "\n",
    "## Introduction\n",
    "\n",
    "In this lab, you'll use what you've learned about inheritance to model a zoo using superclasses, subclasses, and maybe even an abstract superclass!\n",
    "\n",
    "## Objectives\n",
    "\n",
    "You will be able to:\n",
    "\n",
    "* Use inheritance to write nonredundant code\n",
    "* Describe the relationship between subclasses and superclasses\n",
    "* Create a domain model using OOP\n",
    "\n",
    "## Modeling a Zoo\n",
    "\n",
    "Consider the following scenario:  You've been hired by a zookeeper to build a program that keeps track of all the animals in the zoo.  This is a great opportunity to make use of Inheritance and Object-Oriented Programming!\n",
    "\n",
    "## Creating an Abstract Superclass\n",
    "\n",
    "Start by creating an abstract superclass, `Animal`.  When our program is complete, all subclasses of `Animal` will have the following attributes:\n",
    "\n",
    "* `name`, which is a string set at instantation time\n",
    "* `size`, which can be `'small'`, `'medium'`, `'large'`, or `'enormous'`.\n",
    "* `weight`, which is an integer set at instantiation time.\n",
    "* `species`, a string that tells us the species of the animal\n",
    "* `food_type`, which can be `'herbivore'`, `'carnivore'`, or `'omnivore'`\n",
    "* `nocturnal`, a boolean value that is `True` if the animal sleeps during the day, otherwise `False`\n",
    "\n",
    "They'll also have the following behaviors:\n",
    "\n",
    "* `sleep`, which prints a string saying if the animal sleeps during day or night\n",
    "* `eat`, which takes in the string `plants` or `meat`, and returns `'{animal name} the {animal species} thinks {food} is yummy!'` or `'I don't eat this!'` based on the animal's `food_type` attribute. \n",
    "\n",
    "In the cell below, create an abstract superclass that meets these specifications.\n",
    "\n",
    "**_NOTE:_** For some attributes in an abstract superclass such as `size`, the initial value doesn't matter--just make sure that you remember to override it in each of the subclasses!"
   ]
  },
  {
   "cell_type": "code",
   "execution_count": 15,
   "metadata": {},
   "outputs": [],
   "source": [
    "class Animal(object):\n",
    "    \n",
    "    def __init__(self, name, weight):\n",
    "        self.name = name\n",
    "        self.weight = weight\n",
    "        self.size = None\n",
    "        self.species = None\n",
    "        self.foodtype = None\n",
    "        self.nocturnal = False\n",
    "    \n",
    "    def sleep(self):\n",
    "        if self.nocturnal == True:\n",
    "            return f'{self.name} sleeps during the day!'\n",
    "        else:\n",
    "            return f'{self.name} sleeps at night!'\n",
    "        \n",
    "    def eat(self, food):\n",
    "        if self.foodtype == 'omnivore':\n",
    "            print(f'{self.name} the {self.species} thinks {food} is yummy!')\n",
    "        elif self.foodtype == 'herbivore' and food == 'plants':\n",
    "            print(f'{self.name} the {self.species} thinks {food} is yummy!')\n",
    "        elif self.foodtype == 'carnivore' and food == 'meat':\n",
    "            print(f'{self.name} the {self.species} thinks {food} is yummy!')\n",
    "        else:\n",
    "            print(\"I don't eat this!\")"
   ]
  },
  {
   "cell_type": "markdown",
   "metadata": {},
   "source": [
    "Great! Now that you have our Abstract Superclass, you can begin building out the specific animal classes.\n",
    "\n",
    "In the cell below, complete the `Elephant` class.  This class should:\n",
    "\n",
    "* Subclass `Animal`\n",
    "* Have a species of `'elephant'`\n",
    "* Have a size of `'enormous'`\n",
    "* Have a food type of `'herbivore'`\n",
    "* Set nocturnal to `False`\n",
    "\n",
    "**_Hint:_** Remember to make use of the `super()` object during initialization, and be sure to pass in the values it expects at instantiation time!"
   ]
  },
  {
   "cell_type": "code",
   "execution_count": 16,
   "metadata": {},
   "outputs": [],
   "source": [
    "class Elephant(Animal):\n",
    "    \n",
    "    def __init__(self, name, weight):\n",
    "        super().__init__(name, weight)\n",
    "        self.species = 'elephant'\n",
    "        self.size = 'enormous'\n",
    "        self.foodtype = 'herbivore'\n",
    "        self.nocturnal = False"
   ]
  },
  {
   "cell_type": "markdown",
   "metadata": {},
   "source": [
    "Great! Now, in the cell below, create a `Tiger` class.  This class should:\n",
    "\n",
    "* Subclass `Animal`\n",
    "* Have a species of `'tiger'`\n",
    "* Have a size of `'large'`\n",
    "* Have a food type of `'carnivore'`\n",
    "* Set nocturnal to `True`"
   ]
  },
  {
   "cell_type": "code",
   "execution_count": 17,
   "metadata": {},
   "outputs": [],
   "source": [
    "class Tiger(Animal):\n",
    "    \n",
    "    def __init__(self, name, weight):\n",
    "        super().__init__(name, weight)\n",
    "        self.species = 'tiger'\n",
    "        self.size = 'large'\n",
    "        self.foodtype = 'carnivore'\n",
    "        self.nocturnal = True"
   ]
  },
  {
   "cell_type": "markdown",
   "metadata": {},
   "source": [
    "Great! 2 More classes to go. In the cell below, create a `Raccoon` class.  This class should:\n",
    "\n",
    "* Subclass `Animal`\n",
    "* Have a species of `raccoon`\n",
    "* Have a size of `'small'`\n",
    "* Have a food type of `'omnivore'`\n",
    "* Set nocturnal to `True`"
   ]
  },
  {
   "cell_type": "code",
   "execution_count": 18,
   "metadata": {},
   "outputs": [],
   "source": [
    "class Raccoon(Animal):\n",
    "    \n",
    "    def __init__(self, name, weight):\n",
    "        super().__init__(name, weight)\n",
    "        self.species = 'raccoon'\n",
    "        self.size = 'small'\n",
    "        self.foodtype = 'omnivore'\n",
    "        self.nocturnal = True"
   ]
  },
  {
   "cell_type": "markdown",
   "metadata": {},
   "source": [
    "Finally, create a `Gorilla` class.  This class should:\n",
    "\n",
    "* Subclass `Animal`\n",
    "* Have a species of `gorilla`\n",
    "* Have a size of `'Large'`\n",
    "* Have a food type of `'herbivore'`\n",
    "* Set nocturnal to `False`"
   ]
  },
  {
   "cell_type": "code",
   "execution_count": 19,
   "metadata": {},
   "outputs": [],
   "source": [
    "class Gorilla(Animal):\n",
    "    \n",
    "    def __init__(self, name, weight):\n",
    "        super().__init__(name, weight)\n",
    "        self.species = 'gorilla'\n",
    "        self.size = 'large'\n",
    "        self.foodtype = 'herbivore'\n",
    "        self.nocturnal = False"
   ]
  },
  {
   "cell_type": "markdown",
   "metadata": {},
   "source": [
    "## Using Our Objects\n",
    "\n",
    "Now it's time to populate the zoo! To ease the creation of animal instances, create a function `add_animal_to_zoo`.\n",
    "\n",
    "This function should take in the following parameters:\n",
    "\n",
    "* `zoo`, an array representing the current state of the zoo\n",
    "* `animal_type`, a string.  Can be `'Gorilla'`, `'Raccoon'`, `'Tiger'`, or `'Elephant'`.\n",
    "* `name`, the name of the animal being created\n",
    "* `weight`, the weight of the animal being created\n",
    "\n",
    "The function should then:\n",
    "\n",
    "* use `animal_type` to determine which object to create\n",
    "* Create an instance of that animal, passing in the `name` and `weight`\n",
    "* Append the newly created animal to `zoo`\n",
    "* Return `zoo`"
   ]
  },
  {
   "cell_type": "code",
   "execution_count": 20,
   "metadata": {},
   "outputs": [],
   "source": [
    "def add_animal_to_zoo(zoo, animal_type, name, weight):\n",
    "    animal=None\n",
    "   \n",
    "    if animal_type == 'Gorilla':\n",
    "        animal = Gorilla(name, weight)\n",
    "    elif animal_type == 'Raccoon':\n",
    "        animal = Raccoon(name, weight)\n",
    "    elif animal_type == 'Tiger':\n",
    "        animal = Tiger(name, weight)\n",
    "    elif animal_type == 'Elephant':\n",
    "        animal = Elephant(name, weight)\n",
    "    \n",
    "    zoo.append(animal)\n",
    "    return zoo"
   ]
  },
  {
   "cell_type": "markdown",
   "metadata": {},
   "source": [
    "Great! Now, add some animals to your zoo. \n",
    "\n",
    "Create the following animals and add them to your zoo.  The names and weights are up to you.\n",
    "\n",
    "* 2 Elephants\n",
    "* 2 Raccons\n",
    "* 1 Gorilla\n",
    "* 3 Tigers"
   ]
  },
  {
   "cell_type": "code",
   "execution_count": 21,
   "metadata": {},
   "outputs": [
    {
     "data": {
      "text/plain": [
       "[<__main__.Gorilla at 0x1849b64e908>,\n",
       " <__main__.Elephant at 0x1849b64e860>,\n",
       " <__main__.Elephant at 0x1849b64e6d8>,\n",
       " <__main__.Raccoon at 0x1849b64e710>,\n",
       " <__main__.Raccoon at 0x1849b64e668>,\n",
       " <__main__.Tiger at 0x1849b64e9e8>,\n",
       " <__main__.Tiger at 0x1849b64ec18>,\n",
       " <__main__.Tiger at 0x1849b64ec88>]"
      ]
     },
     "execution_count": 21,
     "metadata": {},
     "output_type": "execute_result"
    }
   ],
   "source": [
    "# Create your animals and add them to the 'zoo' in this cell!\n",
    "zoo = []\n",
    "add_animal_to_zoo(zoo, 'Gorilla', 'George', 398)\n",
    "add_animal_to_zoo(zoo, 'Elephant', 'Herman', 4734)\n",
    "add_animal_to_zoo(zoo, 'Elephant', 'Lawrence', 4895)\n",
    "add_animal_to_zoo(zoo, 'Raccoon', 'Bertie', 11)\n",
    "add_animal_to_zoo(zoo, 'Raccoon', 'Sandy', 12)\n",
    "add_animal_to_zoo(zoo, 'Tiger', 'Bo', 523)\n",
    "add_animal_to_zoo(zoo, 'Tiger', 'Barb', 487)\n",
    "add_animal_to_zoo(zoo, 'Tiger', 'Hank', 658)"
   ]
  },
  {
   "cell_type": "markdown",
   "metadata": {},
   "source": [
    "Great! Now that you have a populated zoo, you can do what the zookeeper hired you to do--write a program that feeds the correct animals the right food at the right times!\n",
    "\n",
    "To do this, write a function called `feed_animals`.  This function should take in two arguments:\n",
    "\n",
    "* `zoo`, the zoo array containing all the animals\n",
    "* `time`, which can be `'Day'` or `'Night'`.  This should default to day if nothing is entered for `time`.\n",
    "\n",
    "This function should:\n",
    "\n",
    "* Feed only the non-nocturnal animals if `time='Day'`, or only the nocturnal animals if `time='Night'`\n",
    "* Check the food type of each animal before feeding.  If the animal is a carnivore, feed it `meat`; otherwise, feed it `plants`. Feed the animals by using their `.eat()` method."
   ]
  },
  {
   "cell_type": "code",
   "execution_count": 22,
   "metadata": {},
   "outputs": [],
   "source": [
    "def feed_animals(zoo, time='Day'):\n",
    "    for animal in zoo:\n",
    "        if time == 'Day':\n",
    "            if animal.nocturnal == False:\n",
    "                if animal.foodtype == 'carnivore':\n",
    "                    animal.eat('meat')\n",
    "                else:\n",
    "                    animal.eat('plants')\n",
    "        else:\n",
    "            if animal.nocturnal == True:\n",
    "                if animal.foodtype == 'carnivore':\n",
    "                    animal.eat('meat')\n",
    "                else:\n",
    "                    animal.eat('plants')"
   ]
  },
  {
   "cell_type": "markdown",
   "metadata": {},
   "source": [
    "Now, test out your program.  Call the function for a daytime feeding below."
   ]
  },
  {
   "cell_type": "code",
   "execution_count": 23,
   "metadata": {},
   "outputs": [
    {
     "name": "stdout",
     "output_type": "stream",
     "text": [
      "George the gorilla thinks plants is yummy!\n",
      "Herman the elephant thinks plants is yummy!\n",
      "Lawrence the elephant thinks plants is yummy!\n"
     ]
    }
   ],
   "source": [
    "feed_animals(zoo, time='Day')"
   ]
  },
  {
   "cell_type": "markdown",
   "metadata": {},
   "source": [
    "If the elephants and gorrillas were fed then things should be good!\n",
    "\n",
    "In the cell below, call `feed_animals` again, but this time set `time='Night'`"
   ]
  },
  {
   "cell_type": "code",
   "execution_count": 24,
   "metadata": {},
   "outputs": [
    {
     "name": "stdout",
     "output_type": "stream",
     "text": [
      "Bertie the raccoon thinks plants is yummy!\n",
      "Sandy the raccoon thinks plants is yummy!\n",
      "Bo the tiger thinks meat is yummy!\n",
      "Barb the tiger thinks meat is yummy!\n",
      "Hank the tiger thinks meat is yummy!\n"
     ]
    }
   ],
   "source": [
    "feed_animals(zoo, time='Night')"
   ]
  },
  {
   "cell_type": "markdown",
   "metadata": {},
   "source": [
    "That's it! You've used OOP and inheritance to build a working function to help the zookeeper feed his animals the right food at the correct times!\n",
    "\n",
    "## Summary\n",
    "\n",
    "In this lab, you modeled a zoo and learned how to use inheritance to write nonredundant code, describe the relationship between subclasses and superclasses, and create a domain model using OOP."
   ]
  }
 ],
 "metadata": {
  "kernelspec": {
   "display_name": "learn-env",
   "language": "python",
   "name": "learn-env"
  },
  "language_info": {
   "codemirror_mode": {
    "name": "ipython",
    "version": 3
   },
   "file_extension": ".py",
   "mimetype": "text/x-python",
   "name": "python",
   "nbconvert_exporter": "python",
   "pygments_lexer": "ipython3",
   "version": "3.6.9"
  },
  "toc": {
   "base_numbering": 1,
   "nav_menu": {},
   "number_sections": true,
   "sideBar": true,
   "skip_h1_title": false,
   "title_cell": "Table of Contents",
   "title_sidebar": "Contents",
   "toc_cell": false,
   "toc_position": {},
   "toc_section_display": true,
   "toc_window_display": false
  },
  "varInspector": {
   "cols": {
    "lenName": 16,
    "lenType": 16,
    "lenVar": 40
   },
   "kernels_config": {
    "python": {
     "delete_cmd_postfix": "",
     "delete_cmd_prefix": "del ",
     "library": "var_list.py",
     "varRefreshCmd": "print(var_dic_list())"
    },
    "r": {
     "delete_cmd_postfix": ") ",
     "delete_cmd_prefix": "rm(",
     "library": "var_list.r",
     "varRefreshCmd": "cat(var_dic_list()) "
    }
   },
   "types_to_exclude": [
    "module",
    "function",
    "builtin_function_or_method",
    "instance",
    "_Feature"
   ],
   "window_display": false
  }
 },
 "nbformat": 4,
 "nbformat_minor": 2
}
